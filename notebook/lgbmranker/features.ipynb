{
 "cells": [
  {
   "cell_type": "code",
   "execution_count": 2,
   "id": "b10e57fc",
   "metadata": {},
   "outputs": [],
   "source": [
    "from lightgbm.sklearn import LGBMRanker\n",
    "import lightgbm as lgb\n",
    "from datetime import timedelta\n",
    "import pandas as pd\n",
    "import numpy as np\n",
    "from pathlib import Path\n",
    "from tqdm import tqdm\n",
    "import os\n",
    "import matplotlib.pyplot as plt\n",
    "import seaborn as sns\n",
    "\n",
    "from datetime import datetime, date, timedelta"
   ]
  },
  {
   "cell_type": "code",
   "execution_count": 12,
   "id": "5304d36d",
   "metadata": {},
   "outputs": [],
   "source": [
    "INPUT_DIR = '../input/'\n",
    "OUTPUT_DIR = '../output/'\n",
    "\n",
    "transactions = pd.read_parquet(os.path.join(OUTPUT_DIR, 'transactions_train.parquet'))\n",
    "use_cols = ['week', 'customer_id', 'article_id', 'price'] # price迷うね\n",
    "transactions = transactions[use_cols]"
   ]
  },
  {
   "cell_type": "markdown",
   "id": "207d1d33",
   "metadata": {},
   "source": [
    "# Price"
   ]
  },
  {
   "cell_type": "code",
   "execution_count": 13,
   "id": "c1b1cc63",
   "metadata": {},
   "outputs": [
    {
     "data": {
      "text/html": [
       "<div>\n",
       "<style scoped>\n",
       "    .dataframe tbody tr th:only-of-type {\n",
       "        vertical-align: middle;\n",
       "    }\n",
       "\n",
       "    .dataframe tbody tr th {\n",
       "        vertical-align: top;\n",
       "    }\n",
       "\n",
       "    .dataframe thead th {\n",
       "        text-align: right;\n",
       "    }\n",
       "</style>\n",
       "<table border=\"1\" class=\"dataframe\">\n",
       "  <thead>\n",
       "    <tr style=\"text-align: right;\">\n",
       "      <th></th>\n",
       "      <th>customer_id</th>\n",
       "      <th>week</th>\n",
       "      <th>agg_price_mean</th>\n",
       "      <th>agg_price_max</th>\n",
       "      <th>agg_price_count</th>\n",
       "      <th>week_diff</th>\n",
       "    </tr>\n",
       "  </thead>\n",
       "  <tbody>\n",
       "    <tr>\n",
       "      <th>2</th>\n",
       "      <td>23962613628581</td>\n",
       "      <td>45</td>\n",
       "      <td>0.035309</td>\n",
       "      <td>0.067780</td>\n",
       "      <td>19.0</td>\n",
       "      <td>2.0</td>\n",
       "    </tr>\n",
       "    <tr>\n",
       "      <th>5</th>\n",
       "      <td>28847241659200</td>\n",
       "      <td>2</td>\n",
       "      <td>0.026133</td>\n",
       "      <td>0.042356</td>\n",
       "      <td>7.0</td>\n",
       "      <td>1.0</td>\n",
       "    </tr>\n",
       "    <tr>\n",
       "      <th>6</th>\n",
       "      <td>28847241659200</td>\n",
       "      <td>4</td>\n",
       "      <td>0.068489</td>\n",
       "      <td>0.084712</td>\n",
       "      <td>8.0</td>\n",
       "      <td>2.0</td>\n",
       "    </tr>\n",
       "    <tr>\n",
       "      <th>7</th>\n",
       "      <td>28847241659200</td>\n",
       "      <td>6</td>\n",
       "      <td>0.098981</td>\n",
       "      <td>0.115203</td>\n",
       "      <td>9.0</td>\n",
       "      <td>2.0</td>\n",
       "    </tr>\n",
       "    <tr>\n",
       "      <th>8</th>\n",
       "      <td>28847241659200</td>\n",
       "      <td>8</td>\n",
       "      <td>0.126930</td>\n",
       "      <td>0.149085</td>\n",
       "      <td>11.0</td>\n",
       "      <td>2.0</td>\n",
       "    </tr>\n",
       "  </tbody>\n",
       "</table>\n",
       "</div>"
      ],
      "text/plain": [
       "      customer_id  week  agg_price_mean  agg_price_max  agg_price_count  \\\n",
       "2  23962613628581    45        0.035309       0.067780             19.0   \n",
       "5  28847241659200     2        0.026133       0.042356              7.0   \n",
       "6  28847241659200     4        0.068489       0.084712              8.0   \n",
       "7  28847241659200     6        0.098981       0.115203              9.0   \n",
       "8  28847241659200     8        0.126930       0.149085             11.0   \n",
       "\n",
       "   week_diff  \n",
       "2        2.0  \n",
       "5        1.0  \n",
       "6        2.0  \n",
       "7        2.0  \n",
       "8        2.0  "
      ]
     },
     "execution_count": 13,
     "metadata": {},
     "output_type": "execute_result"
    }
   ],
   "source": [
    "agg_dict = {\n",
    "                'price': [ 'mean', 'max', 'count']\n",
    "            }\n",
    "\n",
    "agg_df = transactions.groupby(['customer_id', 'week'])[['price']].agg(agg_dict)\n",
    "agg_df = agg_df.droplevel(0, axis=1)\n",
    "agg_cols = ['agg_price_' + col for col in agg_df.columns]\n",
    "agg_df.columns = agg_cols\n",
    "agg_df.reset_index(drop=False, inplace=True)\n",
    "agg_df.sort_values(['customer_id', 'week'], inplace=True)\n",
    "agg_df[agg_cols] = agg_df.groupby(['customer_id'])[agg_cols].cumsum()\n",
    "\n",
    "test_week_agg_df = agg_df.groupby(['customer_id']).tail(1).copy()\n",
    "test_week_agg_df.week = 105\n",
    "agg_df = pd.concat([agg_df, test_week_agg_df])\n",
    "\n",
    "agg_df['week_diff'] = None\n",
    "agg_df[['agg_price_mean', 'agg_price_max', 'agg_price_count', 'week_diff']] = agg_df.groupby(['customer_id'])[['agg_price_mean', 'agg_price_max', 'agg_price_count', 'week']].shift()\n",
    "agg_df['week_diff'] = agg_df['week'] - agg_df['week_diff']\n",
    "agg_df = agg_df[~agg_df.agg_price_mean.isnull()]\n",
    "agg_df.head()"
   ]
  },
  {
   "cell_type": "code",
   "execution_count": 14,
   "id": "997e6f7c",
   "metadata": {},
   "outputs": [],
   "source": [
    "agg_df.to_parquet(os.path.join(OUTPUT_DIR, 'user_price_agg.parquet'), index=False)\n",
    "del agg_df"
   ]
  },
  {
   "cell_type": "markdown",
   "id": "deaa6d01",
   "metadata": {},
   "source": [
    "# Article_id"
   ]
  },
  {
   "cell_type": "code",
   "execution_count": 15,
   "id": "5563c127",
   "metadata": {},
   "outputs": [
    {
     "data": {
      "text/html": [
       "<div>\n",
       "<style scoped>\n",
       "    .dataframe tbody tr th:only-of-type {\n",
       "        vertical-align: middle;\n",
       "    }\n",
       "\n",
       "    .dataframe tbody tr th {\n",
       "        vertical-align: top;\n",
       "    }\n",
       "\n",
       "    .dataframe thead th {\n",
       "        text-align: right;\n",
       "    }\n",
       "</style>\n",
       "<table border=\"1\" class=\"dataframe\">\n",
       "  <thead>\n",
       "    <tr style=\"text-align: right;\">\n",
       "      <th></th>\n",
       "      <th>customer_id</th>\n",
       "      <th>article_id</th>\n",
       "      <th>week</th>\n",
       "      <th>user_article_count</th>\n",
       "    </tr>\n",
       "  </thead>\n",
       "  <tbody>\n",
       "    <tr>\n",
       "      <th>12</th>\n",
       "      <td>23962613628581</td>\n",
       "      <td>732842001</td>\n",
       "      <td>45</td>\n",
       "      <td>1.0</td>\n",
       "    </tr>\n",
       "    <tr>\n",
       "      <th>66</th>\n",
       "      <td>28847241659200</td>\n",
       "      <td>762846001</td>\n",
       "      <td>95</td>\n",
       "      <td>1.0</td>\n",
       "    </tr>\n",
       "    <tr>\n",
       "      <th>90</th>\n",
       "      <td>28847241659200</td>\n",
       "      <td>859076001</td>\n",
       "      <td>92</td>\n",
       "      <td>1.0</td>\n",
       "    </tr>\n",
       "    <tr>\n",
       "      <th>168</th>\n",
       "      <td>77117344919861</td>\n",
       "      <td>539723003</td>\n",
       "      <td>7</td>\n",
       "      <td>1.0</td>\n",
       "    </tr>\n",
       "    <tr>\n",
       "      <th>170</th>\n",
       "      <td>77117344919861</td>\n",
       "      <td>539723042</td>\n",
       "      <td>6</td>\n",
       "      <td>1.0</td>\n",
       "    </tr>\n",
       "  </tbody>\n",
       "</table>\n",
       "</div>"
      ],
      "text/plain": [
       "        customer_id  article_id  week  user_article_count\n",
       "12   23962613628581   732842001    45                 1.0\n",
       "66   28847241659200   762846001    95                 1.0\n",
       "90   28847241659200   859076001    92                 1.0\n",
       "168  77117344919861   539723003     7                 1.0\n",
       "170  77117344919861   539723042     6                 1.0"
      ]
     },
     "execution_count": 15,
     "metadata": {},
     "output_type": "execute_result"
    }
   ],
   "source": [
    "agg_df = transactions.groupby(['customer_id', 'article_id', 'week'])[['article_id']].count()\n",
    "agg_df.columns = ['count']\n",
    "agg_df = agg_df.reset_index(drop=False)\n",
    "agg_df = agg_df.sort_values(['customer_id', 'article_id', 'week'])\n",
    "agg_df['user_article_count'] = agg_df.groupby(['customer_id', 'article_id'])[['count']].cumsum()\n",
    "agg_df.drop(['count'], axis=1, inplace=True)\n",
    "\n",
    "test_week_agg_df = agg_df.groupby(['customer_id']).tail(1).copy()\n",
    "test_week_agg_df.week = 105\n",
    "agg_df = pd.concat([agg_df, test_week_agg_df])\n",
    "\n",
    "agg_df[['user_article_count']] = agg_df.groupby(['customer_id', 'article_id'])[['user_article_count']].shift()\n",
    "agg_df = agg_df[~agg_df.user_article_count.isnull()]\n",
    "\n",
    "agg_df.head()"
   ]
  },
  {
   "cell_type": "code",
   "execution_count": 16,
   "id": "b9174fb5",
   "metadata": {},
   "outputs": [],
   "source": [
    "agg_df.to_parquet(os.path.join(OUTPUT_DIR, 'user_article_counts.parquet'), index=False)\n",
    "del agg_df"
   ]
  },
  {
   "cell_type": "markdown",
   "id": "b7391d64",
   "metadata": {},
   "source": [
    "# Index_group"
   ]
  },
  {
   "cell_type": "code",
   "execution_count": null,
   "id": "6d444362",
   "metadata": {},
   "outputs": [],
   "source": []
  }
 ],
 "metadata": {
  "kernelspec": {
   "display_name": "Python 3 (ipykernel)",
   "language": "python",
   "name": "python3"
  },
  "language_info": {
   "codemirror_mode": {
    "name": "ipython",
    "version": 3
   },
   "file_extension": ".py",
   "mimetype": "text/x-python",
   "name": "python",
   "nbconvert_exporter": "python",
   "pygments_lexer": "ipython3",
   "version": "3.9.7"
  }
 },
 "nbformat": 4,
 "nbformat_minor": 5
}
