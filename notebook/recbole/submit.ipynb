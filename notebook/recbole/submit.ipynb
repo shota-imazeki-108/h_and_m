{
 "cells": [
  {
   "cell_type": "code",
   "execution_count": 1,
   "id": "5ce1b97a",
   "metadata": {},
   "outputs": [],
   "source": [
    "from lightgbm.sklearn import LGBMRanker\n",
    "import lightgbm as lgb\n",
    "from datetime import timedelta\n",
    "import pandas as pd\n",
    "import numpy as np\n",
    "from pathlib import Path\n",
    "from tqdm import tqdm\n",
    "import os\n",
    "import matplotlib.pyplot as plt\n",
    "import seaborn as sns\n",
    "import gc\n",
    "\n",
    "from datetime import datetime, date, timedelta"
   ]
  },
  {
   "cell_type": "code",
   "execution_count": 38,
   "id": "e0300f92",
   "metadata": {},
   "outputs": [],
   "source": [
    "INPUT_DIR = '../input/'\n",
    "OUTPUT_DIR = '../output/'\n",
    "INTERMED_DIR = '../intermed/'"
   ]
  },
  {
   "cell_type": "code",
   "execution_count": 48,
   "id": "35f220b3",
   "metadata": {},
   "outputs": [
    {
     "data": {
      "text/plain": [
       "(1371980, 2)"
      ]
     },
     "execution_count": 48,
     "metadata": {},
     "output_type": "execute_result"
    }
   ],
   "source": [
    "submit_df = pd.read_csv(os.path.join(INTERMED_DIR, 'submission.csv'))\n",
    "submit_df.shape"
   ]
  },
  {
   "cell_type": "code",
   "execution_count": 49,
   "id": "3b356eda",
   "metadata": {},
   "outputs": [
    {
     "data": {
      "text/html": [
       "<div>\n",
       "<style scoped>\n",
       "    .dataframe tbody tr th:only-of-type {\n",
       "        vertical-align: middle;\n",
       "    }\n",
       "\n",
       "    .dataframe tbody tr th {\n",
       "        vertical-align: top;\n",
       "    }\n",
       "\n",
       "    .dataframe thead th {\n",
       "        text-align: right;\n",
       "    }\n",
       "</style>\n",
       "<table border=\"1\" class=\"dataframe\">\n",
       "  <thead>\n",
       "    <tr style=\"text-align: right;\">\n",
       "      <th></th>\n",
       "      <th>customer_id</th>\n",
       "      <th>prediction</th>\n",
       "    </tr>\n",
       "  </thead>\n",
       "  <tbody>\n",
       "    <tr>\n",
       "      <th>0</th>\n",
       "      <td>00d7ebd46f6a6d53630d41386b6ef6a505cdc4c80011ff...</td>\n",
       "      <td>0918522001 0915526001 0881942002 0914805002 08...</td>\n",
       "    </tr>\n",
       "    <tr>\n",
       "      <th>1</th>\n",
       "      <td>0109ad0b5a76924a1b58be677409bb601cc8bead9a87b8...</td>\n",
       "      <td>0901955001 0861477001 0913030001 0776237031 08...</td>\n",
       "    </tr>\n",
       "    <tr>\n",
       "      <th>2</th>\n",
       "      <td>013f00f9e218549246a3aa82b3f3a0c22a693bc25fa735...</td>\n",
       "      <td>0839402002 0857621002 0857621001 0843284001 08...</td>\n",
       "    </tr>\n",
       "    <tr>\n",
       "      <th>3</th>\n",
       "      <td>01bada2a453b09c70ea57bdda5a9ef0fb04062718d3a3d...</td>\n",
       "      <td>0724906006 0914441001 0723469001 0820572001 09...</td>\n",
       "    </tr>\n",
       "    <tr>\n",
       "      <th>4</th>\n",
       "      <td>01dd96059a11759518f10969d0a528f03c8501dc4c628b...</td>\n",
       "      <td>0859118001 0910872001 0876053003 0817353003 08...</td>\n",
       "    </tr>\n",
       "  </tbody>\n",
       "</table>\n",
       "</div>"
      ],
      "text/plain": [
       "                                         customer_id  \\\n",
       "0  00d7ebd46f6a6d53630d41386b6ef6a505cdc4c80011ff...   \n",
       "1  0109ad0b5a76924a1b58be677409bb601cc8bead9a87b8...   \n",
       "2  013f00f9e218549246a3aa82b3f3a0c22a693bc25fa735...   \n",
       "3  01bada2a453b09c70ea57bdda5a9ef0fb04062718d3a3d...   \n",
       "4  01dd96059a11759518f10969d0a528f03c8501dc4c628b...   \n",
       "\n",
       "                                          prediction  \n",
       "0  0918522001 0915526001 0881942002 0914805002 08...  \n",
       "1  0901955001 0861477001 0913030001 0776237031 08...  \n",
       "2  0839402002 0857621002 0857621001 0843284001 08...  \n",
       "3  0724906006 0914441001 0723469001 0820572001 09...  \n",
       "4  0859118001 0910872001 0876053003 0817353003 08...  "
      ]
     },
     "execution_count": 49,
     "metadata": {},
     "output_type": "execute_result"
    }
   ],
   "source": [
    "result = pd.read_csv(os.path.join(INTERMED_DIR, 'result70.csv'))\n",
    "result.head()"
   ]
  },
  {
   "cell_type": "code",
   "execution_count": 50,
   "id": "da7107d2",
   "metadata": {},
   "outputs": [
    {
     "data": {
      "text/html": [
       "<div>\n",
       "<style scoped>\n",
       "    .dataframe tbody tr th:only-of-type {\n",
       "        vertical-align: middle;\n",
       "    }\n",
       "\n",
       "    .dataframe tbody tr th {\n",
       "        vertical-align: top;\n",
       "    }\n",
       "\n",
       "    .dataframe thead th {\n",
       "        text-align: right;\n",
       "    }\n",
       "</style>\n",
       "<table border=\"1\" class=\"dataframe\">\n",
       "  <thead>\n",
       "    <tr style=\"text-align: right;\">\n",
       "      <th></th>\n",
       "      <th>customer_id</th>\n",
       "      <th>prediction_x</th>\n",
       "      <th>prediction_y</th>\n",
       "    </tr>\n",
       "  </thead>\n",
       "  <tbody>\n",
       "    <tr>\n",
       "      <th>0</th>\n",
       "      <td>00000dbacae5abe5e23885899a1fa44253a17956c6d1c3...</td>\n",
       "      <td>0568601043 0568601006 0751471001 0924243001 04...</td>\n",
       "      <td>NaN</td>\n",
       "    </tr>\n",
       "    <tr>\n",
       "      <th>1</th>\n",
       "      <td>0000423b00ade91418cceaf3b26c6af3dd342b51fd051e...</td>\n",
       "      <td>0826211002 0924243001 0924243002 0739590027 08...</td>\n",
       "      <td>NaN</td>\n",
       "    </tr>\n",
       "    <tr>\n",
       "      <th>2</th>\n",
       "      <td>000058a12d5b43e67d225668fa1f8d618c13dc232df0ca...</td>\n",
       "      <td>0794321007 0852643001 0924243001 0924243002 07...</td>\n",
       "      <td>NaN</td>\n",
       "    </tr>\n",
       "    <tr>\n",
       "      <th>3</th>\n",
       "      <td>00005ca1c9ed5f5146b52ac8639a40ca9d57aeff4d1bd2...</td>\n",
       "      <td>0448509014 0924243002 0924243001 0751471001 05...</td>\n",
       "      <td>NaN</td>\n",
       "    </tr>\n",
       "    <tr>\n",
       "      <th>4</th>\n",
       "      <td>00006413d8573cd20ed7128e53b7b13819fe5cfc2d801f...</td>\n",
       "      <td>0730683050 0791587015 0927530004 0896152002 09...</td>\n",
       "      <td>NaN</td>\n",
       "    </tr>\n",
       "  </tbody>\n",
       "</table>\n",
       "</div>"
      ],
      "text/plain": [
       "                                         customer_id  \\\n",
       "0  00000dbacae5abe5e23885899a1fa44253a17956c6d1c3...   \n",
       "1  0000423b00ade91418cceaf3b26c6af3dd342b51fd051e...   \n",
       "2  000058a12d5b43e67d225668fa1f8d618c13dc232df0ca...   \n",
       "3  00005ca1c9ed5f5146b52ac8639a40ca9d57aeff4d1bd2...   \n",
       "4  00006413d8573cd20ed7128e53b7b13819fe5cfc2d801f...   \n",
       "\n",
       "                                        prediction_x prediction_y  \n",
       "0  0568601043 0568601006 0751471001 0924243001 04...          NaN  \n",
       "1  0826211002 0924243001 0924243002 0739590027 08...          NaN  \n",
       "2  0794321007 0852643001 0924243001 0924243002 07...          NaN  \n",
       "3  0448509014 0924243002 0924243001 0751471001 05...          NaN  \n",
       "4  0730683050 0791587015 0927530004 0896152002 09...          NaN  "
      ]
     },
     "execution_count": 50,
     "metadata": {},
     "output_type": "execute_result"
    }
   ],
   "source": [
    "submit_df = pd.merge(submit_df, result, on='customer_id', how='outer')\n",
    "submit_df.head()"
   ]
  },
  {
   "cell_type": "code",
   "execution_count": 51,
   "id": "d4911502",
   "metadata": {},
   "outputs": [
    {
     "data": {
      "text/plain": [
       "1356522"
      ]
     },
     "execution_count": 51,
     "metadata": {},
     "output_type": "execute_result"
    }
   ],
   "source": [
    "submit_df.prediction_y.isnull().sum()"
   ]
  },
  {
   "cell_type": "code",
   "execution_count": 52,
   "id": "889317a0",
   "metadata": {},
   "outputs": [
    {
     "data": {
      "text/plain": [
       "(15458, 2)"
      ]
     },
     "execution_count": 52,
     "metadata": {},
     "output_type": "execute_result"
    }
   ],
   "source": [
    "result.shape"
   ]
  },
  {
   "cell_type": "code",
   "execution_count": 53,
   "id": "bd59b2ef",
   "metadata": {
    "scrolled": true
   },
   "outputs": [
    {
     "data": {
      "text/plain": [
       "1371980"
      ]
     },
     "execution_count": 53,
     "metadata": {},
     "output_type": "execute_result"
    }
   ],
   "source": [
    "len(submit_df)"
   ]
  },
  {
   "cell_type": "code",
   "execution_count": 54,
   "id": "a3f51041",
   "metadata": {},
   "outputs": [
    {
     "data": {
      "text/html": [
       "<div>\n",
       "<style scoped>\n",
       "    .dataframe tbody tr th:only-of-type {\n",
       "        vertical-align: middle;\n",
       "    }\n",
       "\n",
       "    .dataframe tbody tr th {\n",
       "        vertical-align: top;\n",
       "    }\n",
       "\n",
       "    .dataframe thead th {\n",
       "        text-align: right;\n",
       "    }\n",
       "</style>\n",
       "<table border=\"1\" class=\"dataframe\">\n",
       "  <thead>\n",
       "    <tr style=\"text-align: right;\">\n",
       "      <th></th>\n",
       "      <th>customer_id</th>\n",
       "      <th>prediction_x</th>\n",
       "      <th>prediction_y</th>\n",
       "      <th>prediction</th>\n",
       "    </tr>\n",
       "  </thead>\n",
       "  <tbody>\n",
       "    <tr>\n",
       "      <th>0</th>\n",
       "      <td>00000dbacae5abe5e23885899a1fa44253a17956c6d1c3...</td>\n",
       "      <td>0568601043 0568601006 0751471001 0924243001 04...</td>\n",
       "      <td>-1</td>\n",
       "      <td>0568601043 0568601006 0751471001 0924243001 04...</td>\n",
       "    </tr>\n",
       "    <tr>\n",
       "      <th>1</th>\n",
       "      <td>0000423b00ade91418cceaf3b26c6af3dd342b51fd051e...</td>\n",
       "      <td>0826211002 0924243001 0924243002 0739590027 08...</td>\n",
       "      <td>-1</td>\n",
       "      <td>0826211002 0924243001 0924243002 0739590027 08...</td>\n",
       "    </tr>\n",
       "    <tr>\n",
       "      <th>2</th>\n",
       "      <td>000058a12d5b43e67d225668fa1f8d618c13dc232df0ca...</td>\n",
       "      <td>0794321007 0852643001 0924243001 0924243002 07...</td>\n",
       "      <td>-1</td>\n",
       "      <td>0794321007 0852643001 0924243001 0924243002 07...</td>\n",
       "    </tr>\n",
       "    <tr>\n",
       "      <th>3</th>\n",
       "      <td>00005ca1c9ed5f5146b52ac8639a40ca9d57aeff4d1bd2...</td>\n",
       "      <td>0448509014 0924243002 0924243001 0751471001 05...</td>\n",
       "      <td>-1</td>\n",
       "      <td>0448509014 0924243002 0924243001 0751471001 05...</td>\n",
       "    </tr>\n",
       "    <tr>\n",
       "      <th>4</th>\n",
       "      <td>00006413d8573cd20ed7128e53b7b13819fe5cfc2d801f...</td>\n",
       "      <td>0730683050 0791587015 0927530004 0896152002 09...</td>\n",
       "      <td>-1</td>\n",
       "      <td>0730683050 0791587015 0927530004 0896152002 09...</td>\n",
       "    </tr>\n",
       "  </tbody>\n",
       "</table>\n",
       "</div>"
      ],
      "text/plain": [
       "                                         customer_id  \\\n",
       "0  00000dbacae5abe5e23885899a1fa44253a17956c6d1c3...   \n",
       "1  0000423b00ade91418cceaf3b26c6af3dd342b51fd051e...   \n",
       "2  000058a12d5b43e67d225668fa1f8d618c13dc232df0ca...   \n",
       "3  00005ca1c9ed5f5146b52ac8639a40ca9d57aeff4d1bd2...   \n",
       "4  00006413d8573cd20ed7128e53b7b13819fe5cfc2d801f...   \n",
       "\n",
       "                                        prediction_x prediction_y  \\\n",
       "0  0568601043 0568601006 0751471001 0924243001 04...           -1   \n",
       "1  0826211002 0924243001 0924243002 0739590027 08...           -1   \n",
       "2  0794321007 0852643001 0924243001 0924243002 07...           -1   \n",
       "3  0448509014 0924243002 0924243001 0751471001 05...           -1   \n",
       "4  0730683050 0791587015 0927530004 0896152002 09...           -1   \n",
       "\n",
       "                                          prediction  \n",
       "0  0568601043 0568601006 0751471001 0924243001 04...  \n",
       "1  0826211002 0924243001 0924243002 0739590027 08...  \n",
       "2  0794321007 0852643001 0924243001 0924243002 07...  \n",
       "3  0448509014 0924243002 0924243001 0751471001 05...  \n",
       "4  0730683050 0791587015 0927530004 0896152002 09...  "
      ]
     },
     "execution_count": 54,
     "metadata": {},
     "output_type": "execute_result"
    }
   ],
   "source": [
    "submit_df = submit_df.fillna(-1)\n",
    "submit_df['prediction'] = submit_df.apply(\n",
    "    lambda x: x['prediction_y'] if x['prediction_y'] != -1 else x['prediction_x'], axis=1)\n",
    "submit_df.head()"
   ]
  },
  {
   "cell_type": "code",
   "execution_count": 55,
   "id": "70f7eb45",
   "metadata": {},
   "outputs": [
    {
     "data": {
      "text/html": [
       "<div>\n",
       "<style scoped>\n",
       "    .dataframe tbody tr th:only-of-type {\n",
       "        vertical-align: middle;\n",
       "    }\n",
       "\n",
       "    .dataframe tbody tr th {\n",
       "        vertical-align: top;\n",
       "    }\n",
       "\n",
       "    .dataframe thead th {\n",
       "        text-align: right;\n",
       "    }\n",
       "</style>\n",
       "<table border=\"1\" class=\"dataframe\">\n",
       "  <thead>\n",
       "    <tr style=\"text-align: right;\">\n",
       "      <th></th>\n",
       "      <th>customer_id</th>\n",
       "      <th>prediction</th>\n",
       "    </tr>\n",
       "  </thead>\n",
       "  <tbody>\n",
       "    <tr>\n",
       "      <th>0</th>\n",
       "      <td>00000dbacae5abe5e23885899a1fa44253a17956c6d1c3...</td>\n",
       "      <td>0568601043 0568601006 0751471001 0924243001 04...</td>\n",
       "    </tr>\n",
       "    <tr>\n",
       "      <th>1</th>\n",
       "      <td>0000423b00ade91418cceaf3b26c6af3dd342b51fd051e...</td>\n",
       "      <td>0826211002 0924243001 0924243002 0739590027 08...</td>\n",
       "    </tr>\n",
       "    <tr>\n",
       "      <th>2</th>\n",
       "      <td>000058a12d5b43e67d225668fa1f8d618c13dc232df0ca...</td>\n",
       "      <td>0794321007 0852643001 0924243001 0924243002 07...</td>\n",
       "    </tr>\n",
       "    <tr>\n",
       "      <th>3</th>\n",
       "      <td>00005ca1c9ed5f5146b52ac8639a40ca9d57aeff4d1bd2...</td>\n",
       "      <td>0448509014 0924243002 0924243001 0751471001 05...</td>\n",
       "    </tr>\n",
       "    <tr>\n",
       "      <th>4</th>\n",
       "      <td>00006413d8573cd20ed7128e53b7b13819fe5cfc2d801f...</td>\n",
       "      <td>0730683050 0791587015 0927530004 0896152002 09...</td>\n",
       "    </tr>\n",
       "  </tbody>\n",
       "</table>\n",
       "</div>"
      ],
      "text/plain": [
       "                                         customer_id  \\\n",
       "0  00000dbacae5abe5e23885899a1fa44253a17956c6d1c3...   \n",
       "1  0000423b00ade91418cceaf3b26c6af3dd342b51fd051e...   \n",
       "2  000058a12d5b43e67d225668fa1f8d618c13dc232df0ca...   \n",
       "3  00005ca1c9ed5f5146b52ac8639a40ca9d57aeff4d1bd2...   \n",
       "4  00006413d8573cd20ed7128e53b7b13819fe5cfc2d801f...   \n",
       "\n",
       "                                          prediction  \n",
       "0  0568601043 0568601006 0751471001 0924243001 04...  \n",
       "1  0826211002 0924243001 0924243002 0739590027 08...  \n",
       "2  0794321007 0852643001 0924243001 0924243002 07...  \n",
       "3  0448509014 0924243002 0924243001 0751471001 05...  \n",
       "4  0730683050 0791587015 0927530004 0896152002 09...  "
      ]
     },
     "execution_count": 55,
     "metadata": {},
     "output_type": "execute_result"
    }
   ],
   "source": [
    "submit_df = submit_df.drop(columns=['prediction_y', 'prediction_x'])\n",
    "submit_df.head()"
   ]
  },
  {
   "cell_type": "code",
   "execution_count": 57,
   "id": "ba51864d",
   "metadata": {},
   "outputs": [],
   "source": [
    "import datetime\n",
    "now = datetime.datetime.now()\n",
    "now = now.strftime(\"%m%d_%H%M\")\n",
    "\n",
    "submit_df.to_csv(os.path.join(OUTPUT_DIR, f'predictions/submisssion_ranking_{now}.csv'), index = False)"
   ]
  },
  {
   "cell_type": "code",
   "execution_count": null,
   "id": "2add3c95",
   "metadata": {},
   "outputs": [],
   "source": []
  },
  {
   "cell_type": "code",
   "execution_count": null,
   "id": "5e28defe",
   "metadata": {},
   "outputs": [],
   "source": []
  }
 ],
 "metadata": {
  "kernelspec": {
   "display_name": "Python 3 (ipykernel)",
   "language": "python",
   "name": "python3"
  },
  "language_info": {
   "codemirror_mode": {
    "name": "ipython",
    "version": 3
   },
   "file_extension": ".py",
   "mimetype": "text/x-python",
   "name": "python",
   "nbconvert_exporter": "python",
   "pygments_lexer": "ipython3",
   "version": "3.9.7"
  }
 },
 "nbformat": 4,
 "nbformat_minor": 5
}
